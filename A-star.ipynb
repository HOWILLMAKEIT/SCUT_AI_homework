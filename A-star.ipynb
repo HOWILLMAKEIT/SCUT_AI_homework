{
 "cells": [
  {
   "cell_type": "markdown",
   "metadata": {},
   "source": [
    "# 一、基本定义\n",
    "\n",
    "\n",
    "在本实验中，我们用一个3×3的NumPy数组来表示八数码的状态。每个数字代表一个方块，0代表空格。\n",
    "\n",
    "我们的目标是通过移动空格，使得初始状态经过一系列合法移动后，达到目标状态"
   ]
  },
  {
   "cell_type": "markdown",
   "metadata": {},
   "source": [
    "## 定义启发函数"
   ]
  },
  {
   "cell_type": "markdown",
   "metadata": {},
   "source": [
    "由于题目要求我们使用不同的启发函数进行搜索，给出搜索步数。所以应该先定义几种不同的启发函数：\n",
    "\n",
    "0：曼哈顿距离：所有数字方块到其目标位置的“横纵坐标距离”之和。\n",
    "\n",
    "1：错位数：当前状态中与目标状态不一致的数字方块的个数（不包括空格0）。\n",
    "\n",
    "2：欧几里得距离：所有数字方块到其目标位置的欧几里得距离之和。"
   ]
  },
  {
   "cell_type": "code",
   "execution_count": 9,
   "metadata": {},
   "outputs": [],
   "source": [
    "import numpy as np\n",
    "\n",
    "def manhattan_distance(state, answer):\n",
    "    distance = 0\n",
    "    for num in range(1, 9):\n",
    "        x1, y1 = np.where(state == num)\n",
    "        x2, y2 = np.where(answer == num)\n",
    "        distance += abs(x1[0] - x2[0]) + abs(y1[0] - y2[0])\n",
    "    return distance\n",
    "\n",
    "def misplaced_tiles(state, answer):\n",
    "    return np.sum((state != answer) & (state != 0))\n",
    "\n",
    "def euclidean_distance(state, answer):\n",
    "    distance = 0\n",
    "    for num in range(1, 9):\n",
    "        x1, y1 = np.where(state == num)\n",
    "        x2, y2 = np.where(answer == num)\n",
    "        distance += np.sqrt((x1[0] - x2[0])**2 + (y1[0] - y2[0])**2)\n",
    "    return distance"
   ]
  },
  {
   "cell_type": "markdown",
   "metadata": {},
   "source": [
    "## 定义状态类"
   ]
  },
  {
   "cell_type": "markdown",
   "metadata": {},
   "source": [
    "可以理解为一个board（二维数组，代表九宫格上的位置）就是一个状态\n",
    "\n",
    "但是一个状态还需要其父状态，g（已走步数）等信息，因此需要定义成一个类\n",
    "\n",
    "定义eq和hash是为了能够方便地用 np.array_equal 来判断两个board是否等价"
   ]
  },
  {
   "cell_type": "code",
   "execution_count": 10,
   "metadata": {},
   "outputs": [],
   "source": [
    "class State:\n",
    "    answer = np.array([[1, 2, 3], [8, 0, 4], [7, 6, 5]])\n",
    "    def __init__(self, board, g=0, parent=None):\n",
    "        self.board = board\n",
    "        self.g = g  # 已走步数\n",
    "        self.parent = parent\n",
    "        self.zero_pos = tuple(np.argwhere(board == 0)[0])\n",
    "    def __eq__(self, other):\n",
    "        return np.array_equal(self.board, other.board)\n",
    "    def __hash__(self):\n",
    "        return hash(tuple(self.board.flatten()))"
   ]
  },
  {
   "cell_type": "markdown",
   "metadata": {},
   "source": [
    "## 定义当前状态可到达的状态"
   ]
  },
  {
   "cell_type": "code",
   "execution_count": 11,
   "metadata": {},
   "outputs": [],
   "source": [
    "def get_neighbors(state):\n",
    "    neighbors = []\n",
    "    x, y = state.zero_pos\n",
    "    directions = [(-1,0),(1,0),(0,-1),(0,1)]\n",
    "    for dx, dy in directions:\n",
    "        nx, ny = x+dx, y+dy\n",
    "        if 0 <= nx < 3 and 0 <= ny < 3:\n",
    "            new_board = state.board.copy()\n",
    "            # 调换位置，模拟方块的移动\n",
    "            new_board[x, y], new_board[nx, ny] = new_board[nx, ny], new_board[x, y]\n",
    "            neighbors.append(State(new_board, state.g+1, state))\n",
    "    return neighbors"
   ]
  },
  {
   "cell_type": "markdown",
   "metadata": {},
   "source": [
    "# 二、实现算法基本逻辑"
   ]
  },
  {
   "cell_type": "code",
   "execution_count": 12,
   "metadata": {},
   "outputs": [],
   "source": [
    "import heapq\n",
    "import itertools\n",
    "\n",
    "\n",
    "def Astar(heuristic_id):\n",
    "    heuristics = {\n",
    "        0: manhattan_distance,\n",
    "        1: misplaced_tiles,\n",
    "        2: euclidean_distance\n",
    "    }\n",
    "    # 根据编号选择合适的启发函数，默认manhattan_distance\n",
    "    heuristic_func = heuristics.get(heuristic_id, manhattan_distance)\n",
    "    \n",
    "    originState = State(np.array([[2, 7, 0], [8, 4, 1], [3, 5, 6]]))\n",
    "    goal = State.answer\n",
    "    \n",
    "    open_list = []\n",
    "    # 将open_list定义为优先队列（最小堆），优先队列会先比较第一个元素，第一个元素比完会比较第二个元素\n",
    "    g = 0\n",
    "    h = heuristic_func(originState.board, goal)\n",
    "    f = g + h\n",
    "    counter = itertools.count()  # 生成唯一自增序号\n",
    "    heapq.heappush(open_list, (f, counter, originState))\n",
    "    closed_set = set()\n",
    "    step_count = 0\n",
    "    \n",
    "    while open_list:\n",
    "        #  弹出最小值\n",
    "        _, _, current = heapq.heappop(open_list)\n",
    "        if np.array_equal(current.board, goal):\n",
    "            # 回溯路径\n",
    "            path = []\n",
    "            node = current\n",
    "            while node:\n",
    "                path.append(node)\n",
    "                node = node.parent\n",
    "            path.reverse()\n",
    "            print(f\"搜索步数: {step_count}\")\n",
    "            print(f\"最短路径步数: {len(path)-1}\")\n",
    "            # print(\"路径:\")\n",
    "            # for s in path:\n",
    "            #     print(s.board)\n",
    "            return\n",
    "        \n",
    "        step_count += 1\n",
    "        closed_set.add(hash(current))\n",
    "        for neighbor in get_neighbors(current):\n",
    "            if hash(neighbor) in closed_set:\n",
    "                continue\n",
    "            f = neighbor.g + heuristic_func(neighbor.board, goal)\n",
    "            heapq.heappush(open_list, (f,next(counter), neighbor))\n",
    "    print(\"无解\")"
   ]
  },
  {
   "cell_type": "markdown",
   "metadata": {},
   "source": [
    "# 三、查看结果"
   ]
  },
  {
   "cell_type": "markdown",
   "metadata": {},
   "source": [
    "曼哈顿距离："
   ]
  },
  {
   "cell_type": "code",
   "execution_count": 13,
   "metadata": {},
   "outputs": [
    {
     "name": "stdout",
     "output_type": "stream",
     "text": [
      "搜索步数: 4551\n",
      "最短路径步数: 26\n"
     ]
    }
   ],
   "source": [
    "Astar(0)"
   ]
  },
  {
   "cell_type": "markdown",
   "metadata": {},
   "source": [
    "错位数："
   ]
  },
  {
   "cell_type": "code",
   "execution_count": 14,
   "metadata": {},
   "outputs": [
    {
     "name": "stdout",
     "output_type": "stream",
     "text": [
      "搜索步数: 54082\n",
      "最短路径步数: 26\n"
     ]
    }
   ],
   "source": [
    "Astar(1)"
   ]
  },
  {
   "cell_type": "markdown",
   "metadata": {},
   "source": [
    "欧几里得距离："
   ]
  },
  {
   "cell_type": "code",
   "execution_count": 15,
   "metadata": {},
   "outputs": [
    {
     "name": "stdout",
     "output_type": "stream",
     "text": [
      "搜索步数: 7257\n",
      "最短路径步数: 26\n"
     ]
    }
   ],
   "source": [
    "Astar(2)"
   ]
  }
 ],
 "metadata": {
  "kernelspec": {
   "display_name": "base",
   "language": "python",
   "name": "python3"
  },
  "language_info": {
   "codemirror_mode": {
    "name": "ipython",
    "version": 3
   },
   "file_extension": ".py",
   "mimetype": "text/x-python",
   "name": "python",
   "nbconvert_exporter": "python",
   "pygments_lexer": "ipython3",
   "version": "3.9.19"
  }
 },
 "nbformat": 4,
 "nbformat_minor": 2
}
